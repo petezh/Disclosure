{
 "cells": [
  {
   "cell_type": "code",
   "execution_count": 1,
   "metadata": {},
   "outputs": [],
   "source": [
    "import csv"
   ]
  },
  {
   "cell_type": "code",
   "execution_count": 2,
   "metadata": {},
   "outputs": [],
   "source": [
    "WIKIPATH = \"wiki_data/\"\n",
    "WIKIPAGES = [\"LD17\", \"LD18\", \"LD19\"]"
   ]
  },
  {
   "cell_type": "code",
   "execution_count": 22,
   "metadata": {},
   "outputs": [],
   "source": [
    "schoolData = []\n",
    "teamData = []\n",
    "for wikipage in WIKIPAGES:\n",
    "    with open(WIKIPATH + wikipage + \"schools_wiki.csv\", 'r', encoding = 'utf-8-sig') as inFile:\n",
    "        for row in csv.DictReader(inFile):\n",
    "            row['Wiki'] = wikipage\n",
    "            schoolData.append(row)\n",
    "    with open(WIKIPATH + wikipage + \"teams_wiki.csv\", 'r', encoding = 'utf-8-sig') as inFile:\n",
    "        for row in csv.DictReader(inFile):\n",
    "            row['Wiki'] = wikipage\n",
    "            teamData.append(row)"
   ]
  },
  {
   "cell_type": "code",
   "execution_count": 23,
   "metadata": {},
   "outputs": [],
   "source": [
    "TABPATH = \"tab_data/\""
   ]
  },
  {
   "cell_type": "code",
   "execution_count": 24,
   "metadata": {},
   "outputs": [],
   "source": [
    "with open(TABPATH + 'disclosure_entries.csv', 'r', encoding = 'utf-8-sig') as inFile:\n",
    "    entriesData = [row for row in csv.DictReader(inFile)]\n",
    "with open(TABPATH + 'disclosure_info.csv', 'r', encoding = 'utf-8-sig') as inFile:\n",
    "    infoData = [row for row in csv.DictReader(inFile)]"
   ]
  },
  {
   "cell_type": "code",
   "execution_count": 35,
   "metadata": {},
   "outputs": [],
   "source": [
    "wikiSchools = set([team['Team Name'].split(\" - \")[0] for team in teamData])\n",
    "wikiNames = set([team['Team Name'].split(\" - \")[1] for team in teamData])"
   ]
  },
  {
   "cell_type": "code",
   "execution_count": 47,
   "metadata": {},
   "outputs": [],
   "source": [
    "entrySchools = set([entry['School'] for entry in entriesData])"
   ]
  },
  {
   "cell_type": "code",
   "execution_count": 63,
   "metadata": {},
   "outputs": [
    {
     "data": {
      "text/plain": [
       "12767"
      ]
     },
     "execution_count": 63,
     "metadata": {},
     "output_type": "execute_result"
    }
   ],
   "source": [
    "len([entry for entry in entriesData if entry['Name'] in wikiNames and any([school in entry['School'] for school in wikiSchools])])"
   ]
  },
  {
   "cell_type": "code",
   "execution_count": null,
   "metadata": {},
   "outputs": [],
   "source": []
  }
 ],
 "metadata": {
  "kernelspec": {
   "display_name": "Python 3",
   "language": "python",
   "name": "python3"
  },
  "language_info": {
   "codemirror_mode": {
    "name": "ipython",
    "version": 3
   },
   "file_extension": ".py",
   "mimetype": "text/x-python",
   "name": "python",
   "nbconvert_exporter": "python",
   "pygments_lexer": "ipython3",
   "version": "3.7.4"
  }
 },
 "nbformat": 4,
 "nbformat_minor": 2
}
