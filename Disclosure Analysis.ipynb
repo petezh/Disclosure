{
 "cells": [
  {
   "cell_type": "code",
   "execution_count": 29,
   "metadata": {},
   "outputs": [],
   "source": [
    "import csv\n",
    "from datetime import datetime, timedelta "
   ]
  },
  {
   "cell_type": "code",
   "execution_count": 30,
   "metadata": {},
   "outputs": [],
   "source": [
    "WIKIPATH = \"wiki_data/\"\n",
    "WIKIPAGES = [\"LD17\", \"LD18\", \"LD19\"]"
   ]
  },
  {
   "cell_type": "code",
   "execution_count": 31,
   "metadata": {},
   "outputs": [],
   "source": [
    "schoolData = []\n",
    "teamData = []\n",
    "for wikipage in WIKIPAGES:\n",
    "    with open(WIKIPATH + wikipage + \"schools_wiki.csv\", 'r', encoding = 'utf-8-sig') as inFile:\n",
    "        for row in csv.DictReader(inFile):\n",
    "            row['Wiki'] = wikipage\n",
    "            schoolData.append(row)\n",
    "    with open(WIKIPATH + wikipage + \"teams_wiki.csv\", 'r', encoding = 'utf-8-sig') as inFile:\n",
    "        for row in csv.DictReader(inFile):\n",
    "            row['Wiki'] = wikipage\n",
    "            teamData.append(row)"
   ]
  },
  {
   "cell_type": "code",
   "execution_count": 32,
   "metadata": {},
   "outputs": [],
   "source": [
    "TABPATH = \"tab_data/\""
   ]
  },
  {
   "cell_type": "code",
   "execution_count": 33,
   "metadata": {},
   "outputs": [],
   "source": [
    "with open(TABPATH + 'disclosure_entries.csv', 'r', encoding = 'utf-8-sig') as inFile:\n",
    "    entriesData = [row for row in csv.DictReader(inFile)]\n",
    "with open(TABPATH + 'disclosure_info.csv', 'r', encoding = 'utf-8-sig') as inFile:\n",
    "    infoData = [row for row in csv.DictReader(inFile)]"
   ]
  },
  {
   "cell_type": "code",
   "execution_count": 34,
   "metadata": {},
   "outputs": [],
   "source": [
    "wikiSchools = set([team['Team Name'].split(\" - \")[0] for team in teamData])\n",
    "wikiNames = set([team['Team Name'].split(\" - \")[1] for team in teamData])"
   ]
  },
  {
   "cell_type": "code",
   "execution_count": 35,
   "metadata": {},
   "outputs": [],
   "source": [
    "entrySchools = set([entry['School'] for entry in entriesData])"
   ]
  },
  {
   "cell_type": "code",
   "execution_count": 36,
   "metadata": {},
   "outputs": [],
   "source": [
    "for tourn in infoData:\n",
    "    monthday = tourn['Dates'].split(\" to \")[0]\n",
    "    year = tourn['Tourn Name'][-2:]\n",
    "    tournDate = datetime.strptime(monthday + \"/\" + year, '%m/%d/%y')\n",
    "    tourn['Start Date'] = tournDate\n",
    "    tourn['Season'] = (tournDate - timedelta(days=150)).year"
   ]
  },
  {
   "cell_type": "code",
   "execution_count": 72,
   "metadata": {},
   "outputs": [],
   "source": [
    "# match disclosure\n",
    "for entry in entriesData:\n",
    "    season = int([tourn for tourn in infoData if tourn['Tourn Name'] == entry['Tournament']][0]['Season'])\n",
    "    if season in [2017, 2018, 2019]:\n",
    "        for team in teamData:\n",
    "            if team['Wiki'][-2:] == str(season)[-2:]:\n",
    "                if team['Team Name'].split(\" - \")[1] == entry['Name']:\n",
    "                    if team['Team Name'].split(\" - \")[0] in entry[\"School\"]:\n",
    "                        entry['Disclosure'] = team"
   ]
  },
  {
   "cell_type": "code",
   "execution_count": 73,
   "metadata": {},
   "outputs": [
    {
     "data": {
      "text/plain": [
       "OrderedDict([('Tournament', 'applevalley18'),\n",
       "             ('Event', 'VLD'),\n",
       "             ('School', 'Eagan HS'),\n",
       "             ('State', 'MN/'),\n",
       "             ('Name', 'Arush Iyer'),\n",
       "             ('Code', 'Eagan AI'),\n",
       "             ('Status', 'In'),\n",
       "             ('Disclosure',\n",
       "              OrderedDict([('Team Name', 'Eagan - Arush Iyer'),\n",
       "                           ('Side', 'Neg'),\n",
       "                           ('Team URL',\n",
       "                            'https://hsld18.debatecoaches.org//Eagan/Iyer%20Neg'),\n",
       "                           ('Rounds',\n",
       "                            \"[['Disclosure', 'Finals', 'Disclosure', 'Disclosure', ''], ['Glenbrooks', '1', 'Success Academy', 'Chauhan', ''], ['Glenbrooks', '6', 'Harvard-Westlake JN', 'idr', '']]\"),\n",
       "                           ('Round Reports',\n",
       "                            \"['Disclose plz', 'AC Non-T aff1N T-be topical Cap K Champion PIC1AR T impact turns K case2N PIC case1AR Case', 'AC- Sexual assault plan1N - Cap K Set col DA Champion PIC case1AR - All \\\\xa0theoretical objection2N - Cap K PIC2AR - All \\\\xa0theoretical objection']\"),\n",
       "                           ('Cites',\n",
       "                            \"['Disclosure', 'Glenbrooks rd 1 strat', 'Glenbrooks rd 6 strat']\"),\n",
       "                           ('Errors', ''),\n",
       "                           ('Wiki', 'LD18')]))])"
      ]
     },
     "execution_count": 73,
     "metadata": {},
     "output_type": "execute_result"
    }
   ],
   "source": [
    "entriesData[1000]"
   ]
  },
  {
   "cell_type": "code",
   "execution_count": null,
   "metadata": {},
   "outputs": [],
   "source": []
  }
 ],
 "metadata": {
  "kernelspec": {
   "display_name": "Python 3",
   "language": "python",
   "name": "python3"
  },
  "language_info": {
   "codemirror_mode": {
    "name": "ipython",
    "version": 3
   },
   "file_extension": ".py",
   "mimetype": "text/x-python",
   "name": "python",
   "nbconvert_exporter": "python",
   "pygments_lexer": "ipython3",
   "version": "3.7.4"
  }
 },
 "nbformat": 4,
 "nbformat_minor": 2
}
