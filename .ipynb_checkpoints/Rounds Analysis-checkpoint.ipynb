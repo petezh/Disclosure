{
 "cells": [
  {
   "cell_type": "code",
   "execution_count": null,
   "metadata": {},
   "outputs": [],
   "source": []
  },
  {
   "cell_type": "code",
   "execution_count": null,
   "metadata": {},
   "outputs": [],
   "source": [
    "with open(OUTPATH + \"records.csv\", 'r') as inFile:\n",
    "    reader = csv.DictReader(inFile)\n",
    "    records = [dict(row) for row in reader]"
   ]
  },
  {
   "cell_type": "code",
   "execution_count": null,
   "metadata": {},
   "outputs": [],
   "source": [
    "def findRepeats(record):\n",
    "    repeats = {}\n",
    "    seen = {}\n",
    "    for matchup in record:\n",
    "        pair = matchup[\"Judge\"] + \"-\" + matchup[\"Aff\"] + \"-\" + matchup[\"Neg\"]\n",
    "        if pair in seen:\n",
    "            seen[pair].append(matchup)\n",
    "        else:\n",
    "            seen[pair] = [matchup]\n",
    "            \n",
    "    for pair in seen:\n",
    "        matchups = seen[pair]\n",
    "        \n",
    "        if len(matchups) > 1:\n",
    "            repeats[pair] = matchups\n",
    "            \n",
    "    return repeats"
   ]
  },
  {
   "cell_type": "code",
   "execution_count": null,
   "metadata": {},
   "outputs": [],
   "source": [
    "repeats = findRepeats(records)"
   ]
  },
  {
   "cell_type": "code",
   "execution_count": null,
   "metadata": {},
   "outputs": [],
   "source": [
    "same = 0\n",
    "flips = 0\n",
    "for pair in repeats:\n",
    "    \n",
    "    rounds = repeats[pair]\n",
    "    winners = [r[r[\"Decision\"]] for r in rounds  if r[\"Decision\"] in [\"Aff\", \"Neg\"]]\n",
    "    if winners:\n",
    "        last = winners[0]\n",
    "    for winner in winners[1:]:\n",
    "        if winner == last:\n",
    "            same += 1\n",
    "        else:\n",
    "            flips += 1\n",
    "            last = winner"
   ]
  },
  {
   "cell_type": "code",
   "execution_count": null,
   "metadata": {},
   "outputs": [],
   "source": [
    "print(same, flips)"
   ]
  }
 ],
 "metadata": {
  "kernelspec": {
   "display_name": "Python 3",
   "language": "python",
   "name": "python3"
  },
  "language_info": {
   "codemirror_mode": {
    "name": "ipython",
    "version": 3
   },
   "file_extension": ".py",
   "mimetype": "text/x-python",
   "name": "python",
   "nbconvert_exporter": "python",
   "pygments_lexer": "ipython3",
   "version": "3.7.4"
  }
 },
 "nbformat": 4,
 "nbformat_minor": 2
}
