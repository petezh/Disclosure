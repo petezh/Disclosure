{
 "cells": [
  {
   "cell_type": "markdown",
   "metadata": {},
   "source": [
    "Entries Analysis\n",
    "---\n",
    "\n",
    "Author: Peter Zhang\n",
    "\n",
    "Analysis of tournament entries."
   ]
  },
  {
   "cell_type": "markdown",
   "metadata": {},
   "source": [
    "### Setup\n",
    "\n",
    "#### Imports"
   ]
  },
  {
   "cell_type": "code",
   "execution_count": 31,
   "metadata": {},
   "outputs": [],
   "source": [
    "# imports\n",
    "import urllib.request, urllib.parse, urllib.error\n",
    "from urllib.request import urlopen\n",
    "from bs4 import BeautifulSoup\n",
    "import pandas as pd\n",
    "import csv\n",
    "import os.path\n",
    "from os import path\n",
    "import sys\n",
    "from string import ascii_lowercase\n",
    "import math"
   ]
  },
  {
   "cell_type": "markdown",
   "metadata": {},
   "source": [
    "#### Settings"
   ]
  },
  {
   "cell_type": "code",
   "execution_count": 144,
   "metadata": {},
   "outputs": [],
   "source": [
    "ENTRIES_CSV = 'tab_data/edebate_entries.csv'"
   ]
  },
  {
   "cell_type": "code",
   "execution_count": 145,
   "metadata": {},
   "outputs": [],
   "source": [
    "with open(ENTRIES_CSV) as inFile:\n",
    "    inReader = csv.DictReader(inFile)\n",
    "    entries = [row for row in inReader]"
   ]
  },
  {
   "cell_type": "code",
   "execution_count": 13,
   "metadata": {},
   "outputs": [],
   "source": [
    "STATES_CSV = 'tools/states.csv'"
   ]
  },
  {
   "cell_type": "code",
   "execution_count": 27,
   "metadata": {},
   "outputs": [],
   "source": [
    "states = {}\n",
    "with open(STATES_CSV) as inFile:\n",
    "    inReader = csv.DictReader(inFile)\n",
    "    for row in inReader:\n",
    "        states[row['State']] = (float(row['Lattitude']), float(row['Longitude']))"
   ]
  },
  {
   "cell_type": "code",
   "execution_count": 108,
   "metadata": {},
   "outputs": [],
   "source": [
    "INFO_CSV = 'tab_data/edebate_info.csv'"
   ]
  },
  {
   "cell_type": "code",
   "execution_count": 109,
   "metadata": {},
   "outputs": [],
   "source": [
    "tournInfo = {}\n",
    "with open(INFO_CSV) as inFile:\n",
    "    inReader = csv.DictReader(inFile)\n",
    "    for row in inReader:\n",
    "        tournInfo[row[\"Tourn Name\"]] = row"
   ]
  },
  {
   "cell_type": "code",
   "execution_count": 135,
   "metadata": {},
   "outputs": [],
   "source": [
    "OUTFILE = 'results/edebate_analysis.csv'"
   ]
  },
  {
   "cell_type": "markdown",
   "metadata": {},
   "source": [
    "### Analysis\n",
    "\n",
    "#### Helpers"
   ]
  },
  {
   "cell_type": "code",
   "execution_count": 129,
   "metadata": {},
   "outputs": [],
   "source": [
    "def getData(entries19, entries20, host):\n",
    "    # count entries\n",
    "    numEntries19 = len(entries19)\n",
    "    numEntries20 = len(entries20)\n",
    "    # get states\n",
    "    states19 = set([getAbbrev(entry[\"State\"]) for entry in entries19])\n",
    "    states20 = set([getAbbrev(entry[\"State\"]) for entry in entries20])\n",
    "    # remove empty/unformatted states\n",
    "    states19 = [state for state in states19 if state in states]\n",
    "    states20 = [state for state in states20 if state in states]\n",
    "    # find num of orig\n",
    "    original = len([entry for entry in entries20 if getAbbrev(entry[\"State\"]) in states19])\n",
    "    avg19 = avgDist(entries19, host)\n",
    "    avg20 = avgDist(entries20, host)\n",
    "    newStates = [state for state in states20 if state not in states19]\n",
    "    return [numEntries19,\n",
    "            numEntries20,\n",
    "           len(states19),\n",
    "           len(states20),\n",
    "           original, \n",
    "           avg19,\n",
    "           avg20,\n",
    "           newStates]"
   ]
  },
  {
   "cell_type": "code",
   "execution_count": 61,
   "metadata": {},
   "outputs": [],
   "source": [
    "# computes distance between two sets of coords\n",
    "def distance(coords1, coords2):\n",
    "    return math.sqrt((coords1[0]-coords2[0])**2 + (coords1[1]-coords2[1])**2)"
   ]
  },
  {
   "cell_type": "code",
   "execution_count": 133,
   "metadata": {},
   "outputs": [],
   "source": [
    "# computes average distance of entries from host state\n",
    "def avgDist(entries, host):\n",
    "    hostCoords = states[host]\n",
    "    totalDist = 0\n",
    "    for entry in entries:\n",
    "        state = entry[\"State\"]\n",
    "        abbrev = getAbbrev(state)\n",
    "        if abbrev in states:\n",
    "            coords = states[abbrev]\n",
    "            totalDist += distance(hostCoords, coords)\n",
    "    return totalDist/len(entries)"
   ]
  },
  {
   "cell_type": "code",
   "execution_count": 131,
   "metadata": {},
   "outputs": [],
   "source": [
    "def getAbbrev(state):\n",
    "    return state.split(\"/\")[0]"
   ]
  },
  {
   "cell_type": "markdown",
   "metadata": {},
   "source": [
    "#### Example"
   ]
  },
  {
   "cell_type": "code",
   "execution_count": 63,
   "metadata": {},
   "outputs": [],
   "source": [
    "dowling19 = [entry for entry in entries if entry[\"Tournament\"] == \"dowling19\"]\n",
    "dowling20 = [entry for entry in entries if entry[\"Tournament\"] == \"dowling20\"]"
   ]
  },
  {
   "cell_type": "code",
   "execution_count": 64,
   "metadata": {},
   "outputs": [
    {
     "data": {
      "text/plain": [
       "46"
      ]
     },
     "execution_count": 64,
     "metadata": {},
     "output_type": "execute_result"
    }
   ],
   "source": [
    "len(dowling19)"
   ]
  },
  {
   "cell_type": "code",
   "execution_count": 65,
   "metadata": {},
   "outputs": [
    {
     "data": {
      "text/plain": [
       "58"
      ]
     },
     "execution_count": 65,
     "metadata": {},
     "output_type": "execute_result"
    }
   ],
   "source": [
    "len(dowling20)"
   ]
  },
  {
   "cell_type": "code",
   "execution_count": 66,
   "metadata": {},
   "outputs": [
    {
     "data": {
      "text/plain": [
       "{'IA/US', 'MN/US', 'MO/US', 'NE/US', 'SD/US'}"
      ]
     },
     "execution_count": 66,
     "metadata": {},
     "output_type": "execute_result"
    }
   ],
   "source": [
    "set([entry[\"State\"] for entry in dowling19])"
   ]
  },
  {
   "cell_type": "code",
   "execution_count": 67,
   "metadata": {
    "scrolled": true
   },
   "outputs": [
    {
     "data": {
      "text/plain": [
       "{'AL/US',\n",
       " 'AZ/US',\n",
       " 'CA/US',\n",
       " 'IA/US',\n",
       " 'MI/US',\n",
       " 'MN/',\n",
       " 'MN/US',\n",
       " 'NE/US',\n",
       " 'OR/US',\n",
       " 'PA/US',\n",
       " 'SD/US',\n",
       " 'TX/',\n",
       " 'TX/US',\n",
       " 'WA/US',\n",
       " 'WI/US',\n",
       " 'WV/US'}"
      ]
     },
     "execution_count": 67,
     "metadata": {},
     "output_type": "execute_result"
    }
   ],
   "source": [
    "set([entry[\"State\"] for entry in dowling20])"
   ]
  },
  {
   "cell_type": "code",
   "execution_count": 84,
   "metadata": {},
   "outputs": [
    {
     "data": {
      "text/plain": [
       "8.200960034507185"
      ]
     },
     "execution_count": 84,
     "metadata": {},
     "output_type": "execute_result"
    }
   ],
   "source": [
    "avgDist(dowling20, \"IA\")"
   ]
  },
  {
   "cell_type": "code",
   "execution_count": 82,
   "metadata": {},
   "outputs": [
    {
     "data": {
      "text/plain": [
       "[46,\n",
       " 58,\n",
       " 5,\n",
       " 14,\n",
       " 36,\n",
       " 5.010976269007526,\n",
       " 8.200960034507185,\n",
       " ['CA', 'WI', 'AZ', 'AL', 'OR', 'WA', 'MI', 'WV', 'TX', 'PA']]"
      ]
     },
     "execution_count": 82,
     "metadata": {},
     "output_type": "execute_result"
    }
   ],
   "source": [
    "getData(dowling19, dowling20, \"IA\")"
   ]
  },
  {
   "cell_type": "markdown",
   "metadata": {},
   "source": [
    "#### Analysis"
   ]
  },
  {
   "cell_type": "code",
   "execution_count": 146,
   "metadata": {},
   "outputs": [],
   "source": [
    "tourn_list = sorted(list(set([entry[\"Tournament\"] for entry in entries])))"
   ]
  },
  {
   "cell_type": "code",
   "execution_count": 147,
   "metadata": {},
   "outputs": [
    {
     "data": {
      "text/plain": [
       "['UT19',\n",
       " 'UT20',\n",
       " 'alta19',\n",
       " 'alta20',\n",
       " 'applevalley19',\n",
       " 'applevalley20',\n",
       " 'bronx19',\n",
       " 'bronx20',\n",
       " 'dowling19',\n",
       " 'dowling20',\n",
       " 'glenbrooks19',\n",
       " 'glenbrooks20',\n",
       " 'grapevine19',\n",
       " 'grapevine20',\n",
       " 'greenhill19',\n",
       " 'greenhill20',\n",
       " 'holycross19',\n",
       " 'holycross20',\n",
       " 'isidore19',\n",
       " 'isidore20',\n",
       " 'jackhowe19',\n",
       " 'jackhowe20',\n",
       " 'loyola19',\n",
       " 'loyola20',\n",
       " 'meadows19',\n",
       " 'meadows20',\n",
       " 'presentation19',\n",
       " 'presentation20',\n",
       " 'princeton19',\n",
       " 'princeton20',\n",
       " 'strake19',\n",
       " 'strake20',\n",
       " 'valley19',\n",
       " 'valley20',\n",
       " 'yale19',\n",
       " 'yale20']"
      ]
     },
     "execution_count": 147,
     "metadata": {},
     "output_type": "execute_result"
    }
   ],
   "source": [
    "tourn_list"
   ]
  },
  {
   "cell_type": "code",
   "execution_count": 148,
   "metadata": {},
   "outputs": [],
   "source": [
    "entries_by_tourn = {}\n",
    "for entry in entries:\n",
    "    tourn = entry[\"Tournament\"]\n",
    "    if tourn in entries_by_tourn:\n",
    "        entries_by_tourn[tourn].append(entry)\n",
    "    else:\n",
    "        entries_by_tourn[tourn] = [entry]"
   ]
  },
  {
   "cell_type": "code",
   "execution_count": 149,
   "metadata": {},
   "outputs": [
    {
     "name": "stdout",
     "output_type": "stream",
     "text": [
      "UT19\n",
      "UT20\n",
      "alta19\n",
      "alta20\n",
      "applevalley19\n",
      "applevalley20\n",
      "bronx19\n",
      "bronx20\n",
      "dowling19\n",
      "dowling20\n",
      "glenbrooks19\n",
      "glenbrooks20\n",
      "grapevine19\n",
      "grapevine20\n",
      "greenhill19\n",
      "greenhill20\n",
      "holycross19\n",
      "holycross20\n",
      "isidore19\n",
      "isidore20\n",
      "jackhowe19\n",
      "jackhowe20\n",
      "loyola19\n",
      "loyola20\n",
      "meadows19\n",
      "meadows20\n",
      "presentation19\n",
      "presentation20\n",
      "princeton19\n",
      "princeton20\n",
      "strake19\n",
      "strake20\n",
      "valley19\n",
      "valley20\n",
      "yale19\n",
      "yale20\n"
     ]
    }
   ],
   "source": [
    "with open(OUTFILE, 'w') as outFile:\n",
    "    outWriter = csv.writer(outFile, lineterminator = '\\n')\n",
    "    outWriter.writerow([\"Tournament\",\n",
    "                        \"Entries 2019\",\n",
    "                                           \"Entries 2020\",\n",
    "                                           \"States 2019\",\n",
    "                                           \"States 2020\",\n",
    "                                           \"Local 2020 Participants\",\n",
    "                                           \"Avg Dist 2019\",\n",
    "                                           \"Avg Dist 2020\",\n",
    "                                           \"New States\"])\n",
    "    for i in range(len(tourn_list)//2):\n",
    "        tourn19 = tourn_list[2*i]\n",
    "        tourn20 = tourn_list[2*i+1]\n",
    "        print(tourn19)\n",
    "        print(tourn20)\n",
    "        host = tournInfo[tourn19][\"State\"]\n",
    "        host = getAbbrev(host)\n",
    "        outWriter.writerow([tourn19[:-2]] + getData(entries_by_tourn[tourn19],\n",
    "                entries_by_tourn[tourn20],\n",
    "                host))"
   ]
  },
  {
   "cell_type": "code",
   "execution_count": null,
   "metadata": {},
   "outputs": [],
   "source": []
  }
 ],
 "metadata": {
  "kernelspec": {
   "display_name": "Python 3",
   "language": "python",
   "name": "python3"
  },
  "language_info": {
   "codemirror_mode": {
    "name": "ipython",
    "version": 3
   },
   "file_extension": ".py",
   "mimetype": "text/x-python",
   "name": "python",
   "nbconvert_exporter": "python",
   "pygments_lexer": "ipython3",
   "version": "3.7.4"
  }
 },
 "nbformat": 4,
 "nbformat_minor": 2
}
